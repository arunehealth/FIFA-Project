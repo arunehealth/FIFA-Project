{
 "cells": [
  {
   "cell_type": "code",
   "execution_count": 75,
   "metadata": {},
   "outputs": [],
   "source": [
    "import pandas as pd\n",
    "import numpy as np \n",
    "import matplotlib.pyplot as plt\n",
    "% matplotlib inline\n",
    "from sklearn.model_selection import train_test_split\n",
    "from sklearn import linear_model\n",
    "from sklearn.metrics import accuracy_score\n",
    "from sklearn.ensemble import RandomForestClassifier\n",
    "from sklearn.metrics import confusion_matrix"
   ]
  },
  {
   "cell_type": "markdown",
   "metadata": {},
   "source": [
    "### Load the training data"
   ]
  },
  {
   "cell_type": "code",
   "execution_count": 165,
   "metadata": {},
   "outputs": [],
   "source": [
    "fifa_his=pd.read_csv('Training_fifa2.csv')"
   ]
  },
  {
   "cell_type": "markdown",
   "metadata": {},
   "source": [
    "### create a inverted copy of the training data\n",
    "Here we swap home and away team. We invert the features and change the label correspondingly."
   ]
  },
  {
   "cell_type": "code",
   "execution_count": 197,
   "metadata": {},
   "outputs": [],
   "source": [
    "fifa_his2=fifa_his.copy()\n",
    "fifa_his2[\"home_team\"] = fifa_his[\"away_team\"]\n",
    "fifa_his2[\"away_team\"] = fifa_his[\"home_team\"]\n",
    "\n",
    "fifa_his2[\"rank_dif\"] = -fifa_his[\"rank_dif\"]\n",
    "fifa_his2[\"rating_dif\"] = -fifa_his[\"rating_dif\"]\n",
    "\n",
    "z={0:1,1:0,2:2}\n",
    "fifa_his2[\"label\"]=fifa_his[\"label\"].map(z)"
   ]
  },
  {
   "cell_type": "markdown",
   "metadata": {},
   "source": [
    "### combine the original and the inverted dataset"
   ]
  },
  {
   "cell_type": "code",
   "execution_count": 198,
   "metadata": {},
   "outputs": [],
   "source": [
    "fifa_his3=pd.concat([fifa_his,fifa_his2])"
   ]
  },
  {
   "cell_type": "code",
   "execution_count": 199,
   "metadata": {},
   "outputs": [
    {
     "data": {
      "text/plain": [
       "(300, 6)"
      ]
     },
     "execution_count": 199,
     "metadata": {},
     "output_type": "execute_result"
    }
   ],
   "source": [
    "fifa_his3.shape"
   ]
  },
  {
   "cell_type": "markdown",
   "metadata": {},
   "source": [
    "### create features and label"
   ]
  },
  {
   "cell_type": "code",
   "execution_count": 200,
   "metadata": {},
   "outputs": [
    {
     "data": {
      "text/plain": [
       "(300, 2)"
      ]
     },
     "execution_count": 200,
     "metadata": {},
     "output_type": "execute_result"
    }
   ],
   "source": [
    "X=fifa_his3.loc[:,['rank_dif','rating_dif']]\n",
    "X.shape"
   ]
  },
  {
   "cell_type": "code",
   "execution_count": 201,
   "metadata": {},
   "outputs": [],
   "source": [
    "# from sklearn.preprocessing import PolynomialFeatures\n",
    "# pf = PolynomialFeatures(degree=2, interaction_only=False, include_bias=False)\n",
    "# X = pf.fit_transform(X)"
   ]
  },
  {
   "cell_type": "code",
   "execution_count": 202,
   "metadata": {},
   "outputs": [
    {
     "data": {
      "text/plain": [
       "(300, 2)"
      ]
     },
     "execution_count": 202,
     "metadata": {},
     "output_type": "execute_result"
    }
   ],
   "source": [
    "X.shape"
   ]
  },
  {
   "cell_type": "code",
   "execution_count": 203,
   "metadata": {},
   "outputs": [
    {
     "data": {
      "text/plain": [
       "(300,)"
      ]
     },
     "execution_count": 203,
     "metadata": {},
     "output_type": "execute_result"
    }
   ],
   "source": [
    "y=fifa_his3.loc[:,'label']\n",
    "y.shape"
   ]
  },
  {
   "cell_type": "markdown",
   "metadata": {},
   "source": [
    "### split test and train set"
   ]
  },
  {
   "cell_type": "code",
   "execution_count": 204,
   "metadata": {},
   "outputs": [],
   "source": [
    "X_train, X_test, y_train, y_test = train_test_split(X, y, test_size=0.2, random_state=42)"
   ]
  },
  {
   "cell_type": "code",
   "execution_count": 205,
   "metadata": {},
   "outputs": [
    {
     "data": {
      "text/plain": [
       "1    100\n",
       "0     98\n",
       "2     42\n",
       "Name: label, dtype: int64"
      ]
     },
     "execution_count": 205,
     "metadata": {},
     "output_type": "execute_result"
    }
   ],
   "source": [
    "y_train.value_counts()"
   ]
  },
  {
   "cell_type": "code",
   "execution_count": 206,
   "metadata": {},
   "outputs": [
    {
     "data": {
      "text/plain": [
       "0    25\n",
       "1    23\n",
       "2    12\n",
       "Name: label, dtype: int64"
      ]
     },
     "execution_count": 206,
     "metadata": {},
     "output_type": "execute_result"
    }
   ],
   "source": [
    "y_test.value_counts()"
   ]
  },
  {
   "cell_type": "markdown",
   "metadata": {},
   "source": [
    "### train Logistic Regression"
   ]
  },
  {
   "cell_type": "code",
   "execution_count": 207,
   "metadata": {},
   "outputs": [],
   "source": [
    "logreg = linear_model.LogisticRegression(C=1e5)"
   ]
  },
  {
   "cell_type": "code",
   "execution_count": 208,
   "metadata": {},
   "outputs": [
    {
     "data": {
      "text/plain": [
       "LogisticRegression(C=100000.0, class_weight=None, dual=False,\n",
       "          fit_intercept=True, intercept_scaling=1, max_iter=100,\n",
       "          multi_class='ovr', n_jobs=1, penalty='l2', random_state=None,\n",
       "          solver='liblinear', tol=0.0001, verbose=0, warm_start=False)"
      ]
     },
     "execution_count": 208,
     "metadata": {},
     "output_type": "execute_result"
    }
   ],
   "source": [
    "logreg.fit(X_train,y_train)"
   ]
  },
  {
   "cell_type": "code",
   "execution_count": 209,
   "metadata": {},
   "outputs": [],
   "source": [
    "y_testpredlog = logreg.predict(X_test)\n",
    "y_testpredlogproba = logreg.predict_proba(X_test)"
   ]
  },
  {
   "cell_type": "code",
   "execution_count": 210,
   "metadata": {},
   "outputs": [
    {
     "data": {
      "text/plain": [
       "array([[-0.02001743,  0.09370787],\n",
       "       [ 0.01893316, -0.08648877],\n",
       "       [ 0.00073205, -0.00597413]])"
      ]
     },
     "execution_count": 210,
     "metadata": {},
     "output_type": "execute_result"
    }
   ],
   "source": [
    "logreg.coef_"
   ]
  },
  {
   "cell_type": "code",
   "execution_count": 211,
   "metadata": {},
   "outputs": [
    {
     "data": {
      "text/plain": [
       "array([[0.32642578, 0.49164912, 0.1819251 ],\n",
       "       [0.47683121, 0.34769823, 0.17547056],\n",
       "       [0.40001713, 0.42015818, 0.17982469],\n",
       "       [0.28009023, 0.5376513 , 0.18225847],\n",
       "       [0.12531822, 0.69486042, 0.17982136],\n",
       "       [0.50661334, 0.31892232, 0.17446434],\n",
       "       [0.56868843, 0.26158736, 0.16972421],\n",
       "       [0.53973225, 0.28808517, 0.17218257],\n",
       "       [0.37119161, 0.44977279, 0.17903559],\n",
       "       [0.41984723, 0.40045704, 0.17969573],\n",
       "       [0.07012692, 0.75629507, 0.17357801],\n",
       "       [0.44029282, 0.38244036, 0.17726681],\n",
       "       [0.33785251, 0.48129763, 0.18084986],\n",
       "       [0.33267628, 0.48440118, 0.18292254],\n",
       "       [0.57816746, 0.25209802, 0.16973453],\n",
       "       [0.43882381, 0.38400249, 0.1771737 ],\n",
       "       [0.36710046, 0.4520593 , 0.18084024],\n",
       "       [0.32895302, 0.48935771, 0.18168928],\n",
       "       [0.80292554, 0.05483243, 0.14224203],\n",
       "       [0.27481358, 0.54384214, 0.18134428],\n",
       "       [0.5380199 , 0.29055319, 0.17142691],\n",
       "       [0.33821687, 0.47891512, 0.18286801],\n",
       "       [0.32460056, 0.4931678 , 0.18223164],\n",
       "       [0.46282207, 0.35879842, 0.17837951],\n",
       "       [0.17924363, 0.6391878 , 0.18156857],\n",
       "       [0.44319782, 0.37814585, 0.17865633],\n",
       "       [0.0736846 , 0.75155965, 0.17475575],\n",
       "       [0.32685947, 0.49166591, 0.18147462],\n",
       "       [0.21461025, 0.60465795, 0.1807318 ],\n",
       "       [0.20944539, 0.61140785, 0.17914677],\n",
       "       [0.30907656, 0.51109441, 0.17982903],\n",
       "       [0.22430625, 0.59445813, 0.18123562],\n",
       "       [0.35407476, 0.46377894, 0.1821463 ],\n",
       "       [0.35830848, 0.46187502, 0.17981651],\n",
       "       [0.14283669, 0.67910345, 0.17805986],\n",
       "       [0.57100015, 0.25995634, 0.16904352],\n",
       "       [0.58870856, 0.24254696, 0.16874448],\n",
       "       [0.26231071, 0.55765055, 0.18003874],\n",
       "       [0.23258267, 0.58562123, 0.1817961 ],\n",
       "       [0.65658962, 0.18147743, 0.16193295],\n",
       "       [0.55157669, 0.27737931, 0.171044  ],\n",
       "       [0.28975097, 0.52845282, 0.18179621],\n",
       "       [0.258577  , 0.55919039, 0.18223261],\n",
       "       [0.46535373, 0.35804123, 0.17660504],\n",
       "       [0.3889782 , 0.43117281, 0.17984899],\n",
       "       [0.4331983 , 0.38829928, 0.17850242],\n",
       "       [0.23796465, 0.57883046, 0.18320489],\n",
       "       [0.51436673, 0.31198183, 0.17365143],\n",
       "       [0.3963482 , 0.42410634, 0.17954546],\n",
       "       [0.52099024, 0.30659206, 0.17241771],\n",
       "       [0.32295005, 0.49548623, 0.18156372],\n",
       "       [0.08896529, 0.73641799, 0.17461671],\n",
       "       [0.1107729 , 0.71093219, 0.17829491],\n",
       "       [0.80449341, 0.05431259, 0.14119399],\n",
       "       [0.39871742, 0.42253368, 0.1787489 ],\n",
       "       [0.27607155, 0.54381644, 0.18011201],\n",
       "       [0.12814366, 0.69451144, 0.1773449 ],\n",
       "       [0.70962027, 0.13586409, 0.15451564],\n",
       "       [0.35039544, 0.46928183, 0.18032273],\n",
       "       [0.37328577, 0.44696733, 0.1797469 ]])"
      ]
     },
     "execution_count": 211,
     "metadata": {},
     "output_type": "execute_result"
    }
   ],
   "source": [
    "y_testpredlogproba"
   ]
  },
  {
   "cell_type": "code",
   "execution_count": 212,
   "metadata": {},
   "outputs": [
    {
     "data": {
      "text/plain": [
       "53     1\n",
       "116    0\n",
       "2      2\n",
       "9      2\n",
       "83     1\n",
       "76     0\n",
       "46     1\n",
       "109    0\n",
       "5      0\n",
       "25     2\n",
       "87     1\n",
       "57     2\n",
       "68     1\n",
       "45     1\n",
       "32     0\n",
       "71     0\n",
       "139    0\n",
       "61     0\n",
       "148    0\n",
       "15     1\n",
       "78     0\n",
       "113    2\n",
       "99     1\n",
       "100    0\n",
       "104    0\n",
       "42     0\n",
       "131    1\n",
       "145    0\n",
       "7      1\n",
       "88     2\n",
       "17     2\n",
       "14     1\n",
       "33     0\n",
       "24     1\n",
       "65     1\n",
       "119    2\n",
       "7      0\n",
       "90     0\n",
       "46     0\n",
       "73     2\n",
       "93     2\n",
       "76     1\n",
       "136    0\n",
       "60     0\n",
       "77     0\n",
       "63     1\n",
       "84     2\n",
       "79     0\n",
       "111    1\n",
       "81     1\n",
       "30     0\n",
       "144    1\n",
       "89     1\n",
       "75     0\n",
       "147    1\n",
       "128    1\n",
       "97     1\n",
       "92     0\n",
       "42     1\n",
       "25     2\n",
       "Name: label, dtype: int64"
      ]
     },
     "execution_count": 212,
     "metadata": {},
     "output_type": "execute_result"
    }
   ],
   "source": [
    "y_test"
   ]
  },
  {
   "cell_type": "markdown",
   "metadata": {},
   "source": [
    "### calculate confusion matrix"
   ]
  },
  {
   "cell_type": "code",
   "execution_count": 213,
   "metadata": {},
   "outputs": [
    {
     "data": {
      "text/plain": [
       "array([[14, 11,  0],\n",
       "       [ 3, 20,  0],\n",
       "       [ 5,  7,  0]])"
      ]
     },
     "execution_count": 213,
     "metadata": {},
     "output_type": "execute_result"
    }
   ],
   "source": [
    "confusion_matrix(y_test, y_testpredlog)"
   ]
  },
  {
   "cell_type": "markdown",
   "metadata": {},
   "source": [
    "### calculate accuracy score and compare with naive solutions"
   ]
  },
  {
   "cell_type": "markdown",
   "metadata": {},
   "source": [
    "#### the model"
   ]
  },
  {
   "cell_type": "code",
   "execution_count": 214,
   "metadata": {},
   "outputs": [
    {
     "data": {
      "text/plain": [
       "0.5666666666666667"
      ]
     },
     "execution_count": 214,
     "metadata": {},
     "output_type": "execute_result"
    }
   ],
   "source": [
    "accuracy_score(y_test, y_testpredlog)"
   ]
  },
  {
   "cell_type": "markdown",
   "metadata": {},
   "source": [
    "#### all win"
   ]
  },
  {
   "cell_type": "code",
   "execution_count": 215,
   "metadata": {},
   "outputs": [
    {
     "data": {
      "text/plain": [
       "0.4166666666666667"
      ]
     },
     "execution_count": 215,
     "metadata": {},
     "output_type": "execute_result"
    }
   ],
   "source": [
    "accuracy_score(y_test, [0]*len(y_test))"
   ]
  },
  {
   "cell_type": "markdown",
   "metadata": {},
   "source": [
    "#### all loose"
   ]
  },
  {
   "cell_type": "code",
   "execution_count": 216,
   "metadata": {},
   "outputs": [
    {
     "data": {
      "text/plain": [
       "0.38333333333333336"
      ]
     },
     "execution_count": 216,
     "metadata": {},
     "output_type": "execute_result"
    }
   ],
   "source": [
    "accuracy_score(y_test, [1]*len(y_test))"
   ]
  },
  {
   "cell_type": "markdown",
   "metadata": {},
   "source": [
    "#### random"
   ]
  },
  {
   "cell_type": "code",
   "execution_count": 217,
   "metadata": {},
   "outputs": [
    {
     "data": {
      "text/plain": [
       "0.2833333333333333"
      ]
     },
     "execution_count": 217,
     "metadata": {},
     "output_type": "execute_result"
    }
   ],
   "source": [
    "accuracy_score(y_test, np.random.randint(0, 3, len(y_test)))"
   ]
  },
  {
   "cell_type": "markdown",
   "metadata": {},
   "source": [
    "### Train Random Forest"
   ]
  },
  {
   "cell_type": "code",
   "execution_count": 218,
   "metadata": {},
   "outputs": [],
   "source": [
    "clf = RandomForestClassifier(max_depth=2, random_state=0,n_estimators=100)"
   ]
  },
  {
   "cell_type": "code",
   "execution_count": 219,
   "metadata": {},
   "outputs": [
    {
     "data": {
      "text/plain": [
       "RandomForestClassifier(bootstrap=True, class_weight=None, criterion='gini',\n",
       "            max_depth=2, max_features='auto', max_leaf_nodes=None,\n",
       "            min_impurity_decrease=0.0, min_impurity_split=None,\n",
       "            min_samples_leaf=1, min_samples_split=2,\n",
       "            min_weight_fraction_leaf=0.0, n_estimators=100, n_jobs=1,\n",
       "            oob_score=False, random_state=0, verbose=0, warm_start=False)"
      ]
     },
     "execution_count": 219,
     "metadata": {},
     "output_type": "execute_result"
    }
   ],
   "source": [
    "clf.fit(X_train,y_train)"
   ]
  },
  {
   "cell_type": "code",
   "execution_count": 220,
   "metadata": {},
   "outputs": [
    {
     "data": {
      "text/plain": [
       "0.5333333333333333"
      ]
     },
     "execution_count": 220,
     "metadata": {},
     "output_type": "execute_result"
    }
   ],
   "source": [
    "clf.score(X_test,y_test)"
   ]
  },
  {
   "cell_type": "code",
   "execution_count": 221,
   "metadata": {},
   "outputs": [
    {
     "data": {
      "text/plain": [
       "array([[0.1216183 , 0.7016362 , 0.17674549]])"
      ]
     },
     "execution_count": 221,
     "metadata": {},
     "output_type": "execute_result"
    }
   ],
   "source": [
    "clf.predict_proba([[14,-67]])"
   ]
  },
  {
   "cell_type": "code",
   "execution_count": 222,
   "metadata": {},
   "outputs": [
    {
     "data": {
      "text/plain": [
       "array([0, 1, 2])"
      ]
     },
     "execution_count": 222,
     "metadata": {},
     "output_type": "execute_result"
    }
   ],
   "source": [
    "clf.classes_"
   ]
  },
  {
   "cell_type": "code",
   "execution_count": null,
   "metadata": {},
   "outputs": [],
   "source": []
  }
 ],
 "metadata": {
  "kernelspec": {
   "display_name": "Python 3",
   "language": "python",
   "name": "python3"
  },
  "language_info": {
   "codemirror_mode": {
    "name": "ipython",
    "version": 3
   },
   "file_extension": ".py",
   "mimetype": "text/x-python",
   "name": "python",
   "nbconvert_exporter": "python",
   "pygments_lexer": "ipython3",
   "version": "3.6.4"
  }
 },
 "nbformat": 4,
 "nbformat_minor": 2
}
